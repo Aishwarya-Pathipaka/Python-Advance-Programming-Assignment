{
 "cells": [
  {
   "cell_type": "markdown",
   "id": "4bda735a",
   "metadata": {},
   "source": [
    "## Q1\n",
    "Write a function that takes a list of lists and returns the value of all of the symbols in it, where each symbol adds or takes something from the total score. Symbol values:\n",
    "\n",
    "#= 5\n",
    "O = 3\n",
    "X = 1\n",
    "! = -1\n",
    "!! = -3\n",
    "!!! = -5\n",
    "\n",
    "A list of lists containing 2 #s, a O, and a !!! would equal (0 + 5 + 5 + 3 - 5) 8.\n",
    "\n",
    "If the final score is negative, return 0 (e.g. 3 #s, 3 !!s, 2 !!!s and a X would be (0 + 5 + 5 + 5 - 3 - 3 - 3 - 5 - 5 + 1) -3, so return 0.\n",
    "\n",
    "Examples\n",
    "\n",
    "check_score([\n",
    "  [\"#\", \"!\"],\n",
    "  [\"!!\", \"X\"]\n",
    "]) ➞ 2\n",
    "\n",
    "check_score([\n",
    "  [\"!!!\", \"O\", \"!\"],\n",
    "  [\"X\", \"#\", \"!!!\"],\n",
    "  [\"!!\", \"X\", \"O\"]\n",
    "]) ➞ 0\n"
   ]
  },
  {
   "cell_type": "code",
   "execution_count": 1,
   "id": "6b5fe2a4",
   "metadata": {},
   "outputs": [
    {
     "ename": "SyntaxError",
     "evalue": "invalid syntax (Temp/ipykernel_12116/330562732.py, line 8)",
     "output_type": "error",
     "traceback": [
      "\u001b[1;36m  File \u001b[1;32m\"C:\\Users\\AISHWA~1\\AppData\\Local\\Temp/ipykernel_12116/330562732.py\"\u001b[1;36m, line \u001b[1;32m8\u001b[0m\n\u001b[1;33m    for i in lists:\u001b[0m\n\u001b[1;37m    ^\u001b[0m\n\u001b[1;31mSyntaxError\u001b[0m\u001b[1;31m:\u001b[0m invalid syntax\n"
     ]
    }
   ],
   "source": [
    "# = 5\n",
    "O = 3\n",
    "X = 1\n",
    "! = -1\n",
    "!! = -3\n",
    "!!! = -5\n",
    "lists=[#,#,0,!!!]\n",
    "    "
   ]
  },
  {
   "cell_type": "code",
   "execution_count": 17,
   "id": "56e9246b",
   "metadata": {},
   "outputs": [
    {
     "name": "stdout",
     "output_type": "stream",
     "text": [
      "2\n",
      "0\n",
      "0\n"
     ]
    }
   ],
   "source": [
    "def check_score(l):\n",
    "    d = {'#': 5, 'O' : 3, 'X' : 1, '!' : -1 , '!!' : -3 , '!!!' : -5}\n",
    "    score = 0\n",
    "    for sub_list in l:\n",
    "        for i in sub_list:\n",
    "            score += d[i]\n",
    "            \n",
    "    if score < 0:\n",
    "        return 0\n",
    "    else:\n",
    "        return score\n",
    "    \n",
    "print(check_score([[\"#\", \"!\"], [\"!!\", \"X\"]]))\n",
    "print(check_score([ [\"!!!\", \"O\", \"!\"], [\"X\", \"#\", \"!!!\"], [\"!!\", \"X\", \"O\"] ]))\n",
    "print(check_score([[\"#\",\"#\",\"#\"],[\"!!\",\"!!\",\"!!\"],[\"!!!\",\"!!!\"],[\"X\"]]))"
   ]
  },
  {
   "cell_type": "markdown",
   "id": "2932c2dc",
   "metadata": {},
   "source": [
    "## Q2.\n",
    "Create a function that takes a variable number of arguments, each argument representing the number of items in a group, and returns the number of permutations (combinations) of items that you could get by taking one item from each group.\n",
    "\n",
    "Examples\n",
    "\n",
    "combinations(2, 3) ➞ 6\n",
    "\n",
    "combinations(3, 7, 4) ➞ 84\n",
    "\n",
    "combinations(2, 3, 4, 5) ➞ 120\n",
    "\n"
   ]
  },
  {
   "cell_type": "code",
   "execution_count": 18,
   "id": "6d92eb8b",
   "metadata": {},
   "outputs": [
    {
     "name": "stdout",
     "output_type": "stream",
     "text": [
      "6\n",
      "84\n",
      "120\n"
     ]
    }
   ],
   "source": [
    "def combinations(*args):\n",
    "    n = 1\n",
    "    \n",
    "    for i in args:\n",
    "        n *= i\n",
    "        \n",
    "    return n\n",
    "\n",
    "print(combinations(2, 3))\n",
    "\n",
    "print(combinations(3, 7, 4))\n",
    "\n",
    "print(combinations(2, 3, 4, 5))\n"
   ]
  },
  {
   "cell_type": "markdown",
   "id": "354ce4e9",
   "metadata": {},
   "source": [
    "## Q3. \n",
    "Create a function that takes a string as an argument and returns the Morse code equivalent.\n",
    "\n",
    "Examples\n",
    "\n",
    "encode_morse(\"EDABBIT CHALLENGE\") ➞ \". -.. .- -... -... .. -   -.-. .... .- .-.. .-.. . -. --. .\"\n",
    "\n",
    "encode_morse(\"HELP ME !\") ➞ \".... . .-.. .--.   -- .   -.-.--\"\n",
    "\n",
    "This dictionary can be used for coding:\n",
    "\n",
    "char_to_dots = {\n",
    "  'A': '.-', 'B': '-...', 'C': '-.-.', 'D': '-..', 'E': '.', 'F': '..-.',\n",
    "  'G': '--.', 'H': '....', 'I': '..', 'J': '.---', 'K': '-.-', 'L': '.-..',\n",
    "  'M': '--', 'N': '-.', 'O': '---', 'P': '.--.', 'Q': '--.-', 'R': '.-.',\n",
    "  'S': '...', 'T': '-', 'U': '..-', 'V': '...-', 'W': '.--', 'X': '-..-',\n",
    "  'Y': '-.--', 'Z': '--..', ' ': ' ', '0': '-----',\n",
    "  '1': '.----', '2': '..---', '3': '...--', '4': '....-', '5': '.....',\n",
    "  '6': '-....', '7': '--...', '8': '---..', '9': '----.',\n",
    "  '&': '.-...', \"'\": '.----.', '@': '.--.-.', ')': '-.--.-', '(': '-.--.',\n",
    "  ':': '---...', ',': '--..--', '=': '-...-', '!': '-.-.--', '.': '.-.-.-',\n",
    "  '-': '-....-', '+': '.-.-.', '\"': '.-..-.', '?': '..--..', '/': '-..-.'\n",
    "}\n"
   ]
  },
  {
   "cell_type": "code",
   "execution_count": 19,
   "id": "de930a41",
   "metadata": {},
   "outputs": [
    {
     "name": "stdout",
     "output_type": "stream",
     "text": [
      " . -.. .- -... -... .. - -.-. .... .- .-.. .-.. . -. --. .\n",
      " .... . .-.. .--. -- . -.-.--\n"
     ]
    }
   ],
   "source": [
    "def encode_morse(s):\n",
    "    char_to_dots = { 'A': '.-', 'B': '-...', 'C': '-.-.', 'D': '-..', 'E': '.', 'F': '..-.', 'G': '--.', 'H': '....', 'I': '..', 'J': '.---', 'K': '-.-', 'L': '.-..', 'M': '--', 'N': '-.', 'O': '---', 'P': '.--.', 'Q': '--.-', 'R': '.-.', 'S': '...', 'T': '-', 'U': '..-', 'V': '...-', 'W': '.--', 'X': '-..-', 'Y': '-.--', 'Z': '--..', ' ': ' ', '0': '-----', '1': '.----', '2': '..---', '3': '...--', '4': '....-', '5': '.....', '6': '-....', '7': '--...', '8': '---..', '9': '----.', '&': '.-...', \"'\": '.----.', '@': '.--.-.', ')': '-.--.-', '(': '-.--.', ':': '---...', ',': '--..--', '=': '-...-', '!': '-.-.--', '.': '.-.-.-', '-': '-....-', '+': '.-.-.', '\"': '.-..-.', '?': '..--..', '/': '-..-.' }\n",
    "    result = \"\"\n",
    "    \n",
    "    for letter in s:\n",
    "        if letter != ' ':\n",
    "            result += ' ' + char_to_dots[letter]\n",
    "        \n",
    "    return result    \n",
    "\n",
    "print(encode_morse(\"EDABBIT CHALLENGE\"))\n",
    "print(encode_morse(\"HELP ME !\"))"
   ]
  },
  {
   "cell_type": "markdown",
   "id": "e1480e1d",
   "metadata": {},
   "source": [
    "## Q4.  \n",
    "Write a function that takes a number and returns True if it's a prime; False otherwise. The number can be 2^64-1 (2 to the power of 63, not XOR). With the standard technique it would be O(2^64-1), which is much too large for the 10 second time limit.\n",
    "\n",
    "Examples\n",
    "\n",
    "prime(7) ➞ True\n",
    "\n",
    "prime(56963) ➞ True\n",
    "\n",
    "prime(5151512515524) ➞ False\n"
   ]
  },
  {
   "cell_type": "code",
   "execution_count": 20,
   "id": "fd61ba4e",
   "metadata": {},
   "outputs": [
    {
     "name": "stdout",
     "output_type": "stream",
     "text": [
      "True\n",
      "True\n",
      "False\n"
     ]
    }
   ],
   "source": [
    "def prime(n):\n",
    "    if n == 1:\n",
    "        return False\n",
    "    if n == 2:\n",
    "        return True\n",
    "    else:\n",
    "        for i in range(2,n):\n",
    "            if n % i == 0:\n",
    "                return False\n",
    "            return True\n",
    "\n",
    "print(prime(11))\n",
    "print(prime(56963))\n",
    "print(prime(1234))"
   ]
  },
  {
   "cell_type": "markdown",
   "id": "644c8cff",
   "metadata": {},
   "source": [
    "## Q5. \n",
    "Create a function that converts a word to a bitstring and then to a boolean list based on the following criteria:\n",
    "\n",
    "    1. Locate the position of the letter in the English alphabet (from 1 to 26).\n",
    "    2. Odd positions will be represented as 1 and 0 otherwise.\n",
    "    3. Convert the represented positions to boolean values, 1 for True and 0 for False.\n",
    "    4. Store the conversions into an array.\n",
    "\n",
    " Examples\n",
    "\n",
    "to_boolean_list(\"deep\") ➞ [False, True, True, False]\n",
    "#deep converts to 0110\n",
    "#d is the 4th alphabet - 0\n",
    "#e is the 5th alphabet - 1\n",
    "#e is the 5th alphabet - 1\n",
    "#p is the 16th alphabet - 0\n",
    "\n",
    "to_boolean_list(\"loves\") ➞ [False, True, False, True, True]\n",
    "\n",
    "to_boolean_list(\"tesh\") ➞ [False, True, True, False]\n",
    "\n"
   ]
  },
  {
   "cell_type": "code",
   "execution_count": 21,
   "id": "af707d8b",
   "metadata": {},
   "outputs": [
    {
     "name": "stdout",
     "output_type": "stream",
     "text": [
      "[False, True, False, True, True]\n",
      "[False, True, True, False]\n",
      "[False, True, True, False]\n"
     ]
    }
   ],
   "source": [
    "def to_boolean(s):\n",
    "    char_list = list(map(chr,range(97,123)))\n",
    "    boolean_list = []\n",
    "    \n",
    "    for letter in s.lower():\n",
    "        if (char_list.index(letter) + 1) % 2 == 0:\n",
    "            boolean_list.append(False)\n",
    "        else:\n",
    "            boolean_list.append(True)\n",
    "            \n",
    "    return boolean_list\n",
    "\n",
    "print(to_boolean(\"loves\"))\n",
    "print(to_boolean(\"tesh\"))\n",
    "print(to_boolean(\"deep\"))"
   ]
  }
 ],
 "metadata": {
  "kernelspec": {
   "display_name": "Python 3 (ipykernel)",
   "language": "python",
   "name": "python3"
  },
  "language_info": {
   "codemirror_mode": {
    "name": "ipython",
    "version": 3
   },
   "file_extension": ".py",
   "mimetype": "text/x-python",
   "name": "python",
   "nbconvert_exporter": "python",
   "pygments_lexer": "ipython3",
   "version": "3.9.7"
  }
 },
 "nbformat": 4,
 "nbformat_minor": 5
}
